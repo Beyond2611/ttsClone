{
  "cells": [
    {
      "cell_type": "markdown",
      "metadata": {
        "id": "view-in-github",
        "colab_type": "text"
      },
      "source": [
        "<a href=\"https://colab.research.google.com/github/Beyond2611/ttsClone/blob/main/TTS_Demo.ipynb\" target=\"_parent\"><img src=\"https://colab.research.google.com/assets/colab-badge.svg\" alt=\"Open In Colab\"/></a>"
      ]
    },
    {
      "cell_type": "code",
      "source": [
        "#@title #Mount Google Drive\n",
        "\n",
        "#@markdown Makes your life easier when uploading and saving stuff.\n",
        "\n",
        "from google.colab import drive\n",
        "drive.flush_and_unmount()\n",
        "!rm -rf /content/drive\n",
        "drive.mount('/content/drive')\n",
        "print('Done!')"
      ],
      "metadata": {
        "colab": {
          "base_uri": "https://localhost:8080/"
        },
        "id": "_cj_xLHg1EBq",
        "outputId": "a4f7f5c7-2291-444b-918e-a24de8689745"
      },
      "execution_count": 1,
      "outputs": [
        {
          "output_type": "stream",
          "name": "stdout",
          "text": [
            "Drive not mounted, so nothing to flush and unmount.\n",
            "Mounted at /content/drive\n",
            "Done!\n"
          ]
        }
      ]
    },
    {
      "cell_type": "code",
      "source": [],
      "metadata": {
        "id": "89rl0s1Q5Vp1"
      },
      "execution_count": null,
      "outputs": []
    },
    {
      "cell_type": "code",
      "execution_count": 2,
      "metadata": {
        "colab": {
          "base_uri": "https://localhost:8080/"
        },
        "id": "g7zJaXuoSV6-",
        "outputId": "b3f84293-b8d1-4050-c9e1-7e8f6cf5fa2e"
      },
      "outputs": [
        {
          "output_type": "stream",
          "name": "stdout",
          "text": [
            "Cloning into 'ttsClone'...\n",
            "remote: Enumerating objects: 375, done.\u001b[K\n",
            "remote: Counting objects: 100% (12/12), done.\u001b[K\n",
            "remote: Compressing objects: 100% (12/12), done.\u001b[K\n",
            "remote: Total 375 (delta 5), reused 0 (delta 0), pack-reused 363\u001b[K\n",
            "Receiving objects: 100% (375/375), 125.52 MiB | 23.32 MiB/s, done.\n",
            "Resolving deltas: 100% (8/8), done.\n",
            "Updating files: 100% (320/320), done.\n",
            "/content/ttsClone\n",
            "Requirement already satisfied: appdirs in /usr/local/lib/python3.10/dist-packages (from -r requirements.txt (line 1)) (1.4.4)\n",
            "Collecting asttokens (from -r requirements.txt (line 2))\n",
            "  Downloading asttokens-2.2.1-py2.py3-none-any.whl (26 kB)\n",
            "Requirement already satisfied: audioread in /usr/local/lib/python3.10/dist-packages (from -r requirements.txt (line 3)) (3.0.0)\n",
            "Requirement already satisfied: backcall in /usr/local/lib/python3.10/dist-packages (from -r requirements.txt (line 4)) (0.2.0)\n",
            "Requirement already satisfied: certifi in /usr/local/lib/python3.10/dist-packages (from -r requirements.txt (line 5)) (2023.5.7)\n",
            "Requirement already satisfied: cffi in /usr/local/lib/python3.10/dist-packages (from -r requirements.txt (line 6)) (1.15.1)\n",
            "Requirement already satisfied: charset-normalizer in /usr/local/lib/python3.10/dist-packages (from -r requirements.txt (line 7)) (2.0.12)\n",
            "Requirement already satisfied: cmake in /usr/local/lib/python3.10/dist-packages (from -r requirements.txt (line 8)) (3.25.2)\n",
            "Requirement already satisfied: decorator in /usr/local/lib/python3.10/dist-packages (from -r requirements.txt (line 9)) (4.4.2)\n",
            "Collecting einops (from -r requirements.txt (line 10))\n",
            "  Downloading einops-0.6.1-py3-none-any.whl (42 kB)\n",
            "\u001b[2K     \u001b[90m━━━━━━━━━━━━━━━━━━━━━━━━━━━━━━━━━━━━━━━━\u001b[0m \u001b[32m42.2/42.2 kB\u001b[0m \u001b[31m4.7 MB/s\u001b[0m eta \u001b[36m0:00:00\u001b[0m\n",
            "\u001b[?25hCollecting executing (from -r requirements.txt (line 11))\n",
            "  Downloading executing-1.2.0-py2.py3-none-any.whl (24 kB)\n",
            "Collecting ffmpeg (from -r requirements.txt (line 12))\n",
            "  Downloading ffmpeg-1.4.tar.gz (5.1 kB)\n",
            "  Preparing metadata (setup.py) ... \u001b[?25l\u001b[?25hdone\n",
            "Requirement already satisfied: filelock in /usr/local/lib/python3.10/dist-packages (from -r requirements.txt (line 13)) (3.12.2)\n",
            "Collecting huggingface-hub (from -r requirements.txt (line 14))\n",
            "  Downloading huggingface_hub-0.16.4-py3-none-any.whl (268 kB)\n",
            "\u001b[2K     \u001b[90m━━━━━━━━━━━━━━━━━━━━━━━━━━━━━━━━━━━━━━\u001b[0m \u001b[32m268.8/268.8 kB\u001b[0m \u001b[31m11.1 MB/s\u001b[0m eta \u001b[36m0:00:00\u001b[0m\n",
            "\u001b[?25hRequirement already satisfied: idna in /usr/local/lib/python3.10/dist-packages (from -r requirements.txt (line 15)) (3.4)\n",
            "Requirement already satisfied: inflect in /usr/local/lib/python3.10/dist-packages (from -r requirements.txt (line 16)) (6.0.5)\n",
            "Requirement already satisfied: ipython in /usr/local/lib/python3.10/dist-packages (from -r requirements.txt (line 17)) (7.34.0)\n",
            "Collecting jedi (from -r requirements.txt (line 18))\n",
            "  Downloading jedi-0.18.2-py2.py3-none-any.whl (1.6 MB)\n",
            "\u001b[2K     \u001b[90m━━━━━━━━━━━━━━━━━━━━━━━━━━━━━━━━━━━━━━━━\u001b[0m \u001b[32m1.6/1.6 MB\u001b[0m \u001b[31m40.7 MB/s\u001b[0m eta \u001b[36m0:00:00\u001b[0m\n",
            "\u001b[?25hRequirement already satisfied: Jinja2 in /usr/local/lib/python3.10/dist-packages (from -r requirements.txt (line 19)) (3.1.2)\n",
            "Requirement already satisfied: joblib in /usr/local/lib/python3.10/dist-packages (from -r requirements.txt (line 20)) (1.3.1)\n",
            "Requirement already satisfied: lazy_loader in /usr/local/lib/python3.10/dist-packages (from -r requirements.txt (line 21)) (0.3)\n",
            "Requirement already satisfied: librosa in /usr/local/lib/python3.10/dist-packages (from -r requirements.txt (line 22)) (0.10.0.post2)\n",
            "Requirement already satisfied: lit in /usr/local/lib/python3.10/dist-packages (from -r requirements.txt (line 23)) (16.0.6)\n",
            "Requirement already satisfied: llvmlite in /usr/local/lib/python3.10/dist-packages (from -r requirements.txt (line 24)) (0.39.1)\n",
            "Requirement already satisfied: MarkupSafe in /usr/local/lib/python3.10/dist-packages (from -r requirements.txt (line 25)) (2.1.3)\n",
            "Requirement already satisfied: matplotlib-inline in /usr/local/lib/python3.10/dist-packages (from -r requirements.txt (line 26)) (0.1.6)\n",
            "Requirement already satisfied: mpmath==1.3.0 in /usr/local/lib/python3.10/dist-packages (from -r requirements.txt (line 27)) (1.3.0)\n",
            "Requirement already satisfied: msgpack==1.0.5 in /usr/local/lib/python3.10/dist-packages (from -r requirements.txt (line 28)) (1.0.5)\n",
            "Requirement already satisfied: networkx==3.1 in /usr/local/lib/python3.10/dist-packages (from -r requirements.txt (line 29)) (3.1)\n",
            "Requirement already satisfied: numba in /usr/local/lib/python3.10/dist-packages (from -r requirements.txt (line 30)) (0.56.4)\n",
            "Requirement already satisfied: numpy in /usr/local/lib/python3.10/dist-packages (from -r requirements.txt (line 31)) (1.22.4)\n",
            "Collecting nvidia-cublas-cu11 (from -r requirements.txt (line 32))\n",
            "  Downloading nvidia_cublas_cu11-11.11.3.6-py3-none-manylinux1_x86_64.whl (417.9 MB)\n",
            "\u001b[2K     \u001b[90m━━━━━━━━━━━━━━━━━━━━━━━━━━━━━━━━━━━━━━━\u001b[0m \u001b[32m417.9/417.9 MB\u001b[0m \u001b[31m2.7 MB/s\u001b[0m eta \u001b[36m0:00:00\u001b[0m\n",
            "\u001b[?25hCollecting nvidia-cuda-cupti-cu11 (from -r requirements.txt (line 33))\n",
            "  Downloading nvidia_cuda_cupti_cu11-11.8.87-py3-none-manylinux1_x86_64.whl (13.1 MB)\n",
            "\u001b[2K     \u001b[90m━━━━━━━━━━━━━━━━━━━━━━━━━━━━━━━━━━━━━━━━\u001b[0m \u001b[32m13.1/13.1 MB\u001b[0m \u001b[31m73.1 MB/s\u001b[0m eta \u001b[36m0:00:00\u001b[0m\n",
            "\u001b[?25hCollecting nvidia-cuda-nvrtc-cu11 (from -r requirements.txt (line 34))\n",
            "  Downloading nvidia_cuda_nvrtc_cu11-11.8.89-py3-none-manylinux1_x86_64.whl (23.2 MB)\n",
            "\u001b[2K     \u001b[90m━━━━━━━━━━━━━━━━━━━━━━━━━━━━━━━━━━━━━━━━\u001b[0m \u001b[32m23.2/23.2 MB\u001b[0m \u001b[31m67.5 MB/s\u001b[0m eta \u001b[36m0:00:00\u001b[0m\n",
            "\u001b[?25hCollecting nvidia-cuda-runtime-cu11 (from -r requirements.txt (line 35))\n",
            "  Downloading nvidia_cuda_runtime_cu11-11.8.89-py3-none-manylinux1_x86_64.whl (875 kB)\n",
            "\u001b[2K     \u001b[90m━━━━━━━━━━━━━━━━━━━━━━━━━━━━━━━━━━━━━━\u001b[0m \u001b[32m875.6/875.6 kB\u001b[0m \u001b[31m61.9 MB/s\u001b[0m eta \u001b[36m0:00:00\u001b[0m\n",
            "\u001b[?25hCollecting nvidia-cudnn-cu11 (from -r requirements.txt (line 36))\n",
            "  Downloading nvidia_cudnn_cu11-8.9.2.26-py3-none-manylinux1_x86_64.whl (732.3 MB)\n",
            "\u001b[2K     \u001b[90m━━━━━━━━━━━━━━━━━━━━━━━━━━━━━━━━━━━━━━━\u001b[0m \u001b[32m732.3/732.3 MB\u001b[0m \u001b[31m2.2 MB/s\u001b[0m eta \u001b[36m0:00:00\u001b[0m\n",
            "\u001b[?25hCollecting nvidia-cufft-cu11 (from -r requirements.txt (line 37))\n",
            "  Downloading nvidia_cufft_cu11-10.9.0.58-py3-none-manylinux1_x86_64.whl (168.4 MB)\n",
            "\u001b[2K     \u001b[90m━━━━━━━━━━━━━━━━━━━━━━━━━━━━━━━━━━━━━━━\u001b[0m \u001b[32m168.4/168.4 MB\u001b[0m \u001b[31m4.3 MB/s\u001b[0m eta \u001b[36m0:00:00\u001b[0m\n",
            "\u001b[?25hCollecting nvidia-curand-cu11 (from -r requirements.txt (line 38))\n",
            "  Downloading nvidia_curand_cu11-10.3.0.86-py3-none-manylinux1_x86_64.whl (58.1 MB)\n",
            "\u001b[2K     \u001b[90m━━━━━━━━━━━━━━━━━━━━━━━━━━━━━━━━━━━━━━━━\u001b[0m \u001b[32m58.1/58.1 MB\u001b[0m \u001b[31m26.1 MB/s\u001b[0m eta \u001b[36m0:00:00\u001b[0m\n",
            "\u001b[?25hCollecting nvidia-cusolver-cu11 (from -r requirements.txt (line 39))\n",
            "  Downloading nvidia_cusolver_cu11-11.4.1.48-py3-none-manylinux1_x86_64.whl (128.2 MB)\n",
            "\u001b[2K     \u001b[90m━━━━━━━━━━━━━━━━━━━━━━━━━━━━━━━━━━━━━━━\u001b[0m \u001b[32m128.2/128.2 MB\u001b[0m \u001b[31m4.9 MB/s\u001b[0m eta \u001b[36m0:00:00\u001b[0m\n",
            "\u001b[?25hCollecting nvidia-cusparse-cu11 (from -r requirements.txt (line 40))\n",
            "  Downloading nvidia_cusparse_cu11-11.7.5.86-py3-none-manylinux1_x86_64.whl (204.1 MB)\n",
            "\u001b[2K     \u001b[90m━━━━━━━━━━━━━━━━━━━━━━━━━━━━━━━━━━━━━━━\u001b[0m \u001b[32m204.1/204.1 MB\u001b[0m \u001b[31m4.2 MB/s\u001b[0m eta \u001b[36m0:00:00\u001b[0m\n",
            "\u001b[?25hCollecting nvidia-nccl-cu11==2.14.3 (from -r requirements.txt (line 41))\n",
            "  Downloading nvidia_nccl_cu11-2.14.3-py3-none-manylinux1_x86_64.whl (177.1 MB)\n",
            "\u001b[2K     \u001b[90m━━━━━━━━━━━━━━━━━━━━━━━━━━━━━━━━━━━━━━━\u001b[0m \u001b[32m177.1/177.1 MB\u001b[0m \u001b[31m4.2 MB/s\u001b[0m eta \u001b[36m0:00:00\u001b[0m\n",
            "\u001b[?25hCollecting nvidia-nvtx-cu11==11.7.91 (from -r requirements.txt (line 42))\n",
            "  Downloading nvidia_nvtx_cu11-11.7.91-py3-none-manylinux1_x86_64.whl (98 kB)\n",
            "\u001b[2K     \u001b[90m━━━━━━━━━━━━━━━━━━━━━━━━━━━━━━━━━━━━━━━━\u001b[0m \u001b[32m98.6/98.6 kB\u001b[0m \u001b[31m11.1 MB/s\u001b[0m eta \u001b[36m0:00:00\u001b[0m\n",
            "\u001b[?25hRequirement already satisfied: packaging in /usr/local/lib/python3.10/dist-packages (from -r requirements.txt (line 43)) (23.1)\n",
            "Requirement already satisfied: parso in /usr/local/lib/python3.10/dist-packages (from -r requirements.txt (line 44)) (0.8.3)\n",
            "Requirement already satisfied: pexpect in /usr/local/lib/python3.10/dist-packages (from -r requirements.txt (line 45)) (4.8.0)\n",
            "Requirement already satisfied: pickleshare in /usr/local/lib/python3.10/dist-packages (from -r requirements.txt (line 46)) (0.7.5)\n",
            "Requirement already satisfied: Pillow in /usr/local/lib/python3.10/dist-packages (from -r requirements.txt (line 47)) (8.4.0)\n",
            "Requirement already satisfied: pooch in /usr/local/lib/python3.10/dist-packages (from -r requirements.txt (line 48)) (1.6.0)\n",
            "Collecting progressbar (from -r requirements.txt (line 49))\n",
            "  Downloading progressbar-2.5.tar.gz (10 kB)\n",
            "  Preparing metadata (setup.py) ... \u001b[?25l\u001b[?25hdone\n",
            "Requirement already satisfied: prompt-toolkit in /usr/local/lib/python3.10/dist-packages (from -r requirements.txt (line 50)) (3.0.39)\n",
            "Requirement already satisfied: ptyprocess in /usr/local/lib/python3.10/dist-packages (from -r requirements.txt (line 51)) (0.7.0)\n",
            "Collecting pure-eval (from -r requirements.txt (line 52))\n",
            "  Downloading pure_eval-0.2.2-py3-none-any.whl (11 kB)\n",
            "Requirement already satisfied: pycparser in /usr/local/lib/python3.10/dist-packages (from -r requirements.txt (line 53)) (2.21)\n",
            "Requirement already satisfied: pydantic in /usr/local/lib/python3.10/dist-packages (from -r requirements.txt (line 54)) (1.10.11)\n",
            "Collecting pydub (from -r requirements.txt (line 55))\n",
            "  Downloading pydub-0.25.1-py2.py3-none-any.whl (32 kB)\n",
            "Requirement already satisfied: Pygments in /usr/local/lib/python3.10/dist-packages (from -r requirements.txt (line 56)) (2.14.0)\n",
            "Requirement already satisfied: PyYAML in /usr/local/lib/python3.10/dist-packages (from -r requirements.txt (line 57)) (6.0)\n",
            "Requirement already satisfied: regex in /usr/local/lib/python3.10/dist-packages (from -r requirements.txt (line 58)) (2022.10.31)\n",
            "Requirement already satisfied: requests in /usr/local/lib/python3.10/dist-packages (from -r requirements.txt (line 59)) (2.27.1)\n",
            "Collecting rotary-embedding-torch (from -r requirements.txt (line 60))\n",
            "  Downloading rotary_embedding_torch-0.2.5-py3-none-any.whl (4.6 kB)\n",
            "Requirement already satisfied: scikit-learn in /usr/local/lib/python3.10/dist-packages (from -r requirements.txt (line 61)) (1.2.2)\n",
            "Requirement already satisfied: scipy in /usr/local/lib/python3.10/dist-packages (from -r requirements.txt (line 62)) (1.10.1)\n",
            "Requirement already satisfied: six in /usr/local/lib/python3.10/dist-packages (from -r requirements.txt (line 63)) (1.16.0)\n",
            "Requirement already satisfied: soundfile in /usr/local/lib/python3.10/dist-packages (from -r requirements.txt (line 64)) (0.12.1)\n",
            "Requirement already satisfied: soxr in /usr/local/lib/python3.10/dist-packages (from -r requirements.txt (line 65)) (0.3.5)\n",
            "Collecting stack-data (from -r requirements.txt (line 66))\n",
            "  Downloading stack_data-0.6.2-py3-none-any.whl (24 kB)\n",
            "Requirement already satisfied: sympy in /usr/local/lib/python3.10/dist-packages (from -r requirements.txt (line 67)) (1.11.1)\n",
            "Requirement already satisfied: threadpoolctl in /usr/local/lib/python3.10/dist-packages (from -r requirements.txt (line 68)) (3.1.0)\n",
            "Collecting tokenizer (from -r requirements.txt (line 69))\n",
            "  Downloading tokenizer-3.4.2-py2.py3-none-any.whl (79 kB)\n",
            "\u001b[2K     \u001b[90m━━━━━━━━━━━━━━━━━━━━━━━━━━━━━━━━━━━━━━━━\u001b[0m \u001b[32m79.1/79.1 kB\u001b[0m \u001b[31m8.2 MB/s\u001b[0m eta \u001b[36m0:00:00\u001b[0m\n",
            "\u001b[?25hCollecting tokenizers (from -r requirements.txt (line 70))\n",
            "  Downloading tokenizers-0.13.3-cp310-cp310-manylinux_2_17_x86_64.manylinux2014_x86_64.whl (7.8 MB)\n",
            "\u001b[2K     \u001b[90m━━━━━━━━━━━━━━━━━━━━━━━━━━━━━━━━━━━━━━━━\u001b[0m \u001b[32m7.8/7.8 MB\u001b[0m \u001b[31m97.1 MB/s\u001b[0m eta \u001b[36m0:00:00\u001b[0m\n",
            "\u001b[?25hRequirement already satisfied: torch in /usr/local/lib/python3.10/dist-packages (from -r requirements.txt (line 71)) (2.0.1+cu118)\n",
            "Requirement already satisfied: torchaudio in /usr/local/lib/python3.10/dist-packages (from -r requirements.txt (line 72)) (2.0.2+cu118)\n",
            "Requirement already satisfied: torchvision in /usr/local/lib/python3.10/dist-packages (from -r requirements.txt (line 73)) (0.15.2+cu118)\n",
            "Requirement already satisfied: tqdm in /usr/local/lib/python3.10/dist-packages (from -r requirements.txt (line 74)) (4.65.0)\n",
            "Requirement already satisfied: traitlets in /usr/local/lib/python3.10/dist-packages (from -r requirements.txt (line 75)) (5.7.1)\n",
            "Collecting transformers==4.29.2 (from -r requirements.txt (line 76))\n",
            "  Downloading transformers-4.29.2-py3-none-any.whl (7.1 MB)\n",
            "\u001b[2K     \u001b[90m━━━━━━━━━━━━━━━━━━━━━━━━━━━━━━━━━━━━━━━━\u001b[0m \u001b[32m7.1/7.1 MB\u001b[0m \u001b[31m91.6 MB/s\u001b[0m eta \u001b[36m0:00:00\u001b[0m\n",
            "\u001b[?25hRequirement already satisfied: triton in /usr/local/lib/python3.10/dist-packages (from -r requirements.txt (line 77)) (2.0.0)\n",
            "Requirement already satisfied: typing_extensions in /usr/local/lib/python3.10/dist-packages (from -r requirements.txt (line 78)) (4.7.1)\n",
            "Collecting Unidecode (from -r requirements.txt (line 79))\n",
            "  Downloading Unidecode-1.3.6-py3-none-any.whl (235 kB)\n",
            "\u001b[2K     \u001b[90m━━━━━━━━━━━━━━━━━━━━━━━━━━━━━━━━━━━━━━\u001b[0m \u001b[32m235.9/235.9 kB\u001b[0m \u001b[31m25.2 MB/s\u001b[0m eta \u001b[36m0:00:00\u001b[0m\n",
            "\u001b[?25hRequirement already satisfied: urllib3 in /usr/local/lib/python3.10/dist-packages (from -r requirements.txt (line 80)) (1.26.16)\n",
            "Requirement already satisfied: wcwidth in /usr/local/lib/python3.10/dist-packages (from -r requirements.txt (line 81)) (0.2.6)\n",
            "Requirement already satisfied: setuptools in /usr/local/lib/python3.10/dist-packages (from nvidia-nvtx-cu11==11.7.91->-r requirements.txt (line 42)) (67.7.2)\n",
            "Requirement already satisfied: wheel in /usr/local/lib/python3.10/dist-packages (from nvidia-nvtx-cu11==11.7.91->-r requirements.txt (line 42)) (0.40.0)\n",
            "Requirement already satisfied: fsspec in /usr/local/lib/python3.10/dist-packages (from huggingface-hub->-r requirements.txt (line 14)) (2023.6.0)\n",
            "Building wheels for collected packages: ffmpeg, progressbar\n",
            "  Building wheel for ffmpeg (setup.py) ... \u001b[?25l\u001b[?25hdone\n",
            "  Created wheel for ffmpeg: filename=ffmpeg-1.4-py3-none-any.whl size=6083 sha256=c750ffb3d8fa6c98af0ed7e136d8a5bdb4496073337aa42a9a89a65ab46d6231\n",
            "  Stored in directory: /root/.cache/pip/wheels/8e/7a/69/cd6aeb83b126a7f04cbe7c9d929028dc52a6e7d525ff56003a\n",
            "  Building wheel for progressbar (setup.py) ... \u001b[?25l\u001b[?25hdone\n",
            "  Created wheel for progressbar: filename=progressbar-2.5-py3-none-any.whl size=12067 sha256=7f332c6072ee300fa3b6a4f98786809d243e0bd94f4b553c77ae8b7bdf7179d2\n",
            "  Stored in directory: /root/.cache/pip/wheels/cd/17/e5/765d1a3112ff3978f70223502f6047e06c43a24d7c5f8ff95b\n",
            "Successfully built ffmpeg progressbar\n",
            "Installing collected packages: tokenizers, tokenizer, pydub, pure-eval, progressbar, ffmpeg, executing, Unidecode, nvidia-nvtx-cu11, nvidia-nccl-cu11, nvidia-cusparse-cu11, nvidia-curand-cu11, nvidia-cufft-cu11, nvidia-cuda-runtime-cu11, nvidia-cuda-nvrtc-cu11, nvidia-cuda-cupti-cu11, nvidia-cublas-cu11, jedi, einops, asttokens, stack-data, nvidia-cusolver-cu11, nvidia-cudnn-cu11, huggingface-hub, transformers, rotary-embedding-torch\n",
            "Successfully installed Unidecode-1.3.6 asttokens-2.2.1 einops-0.6.1 executing-1.2.0 ffmpeg-1.4 huggingface-hub-0.16.4 jedi-0.18.2 nvidia-cublas-cu11-11.11.3.6 nvidia-cuda-cupti-cu11-11.8.87 nvidia-cuda-nvrtc-cu11-11.8.89 nvidia-cuda-runtime-cu11-11.8.89 nvidia-cudnn-cu11-8.9.2.26 nvidia-cufft-cu11-10.9.0.58 nvidia-curand-cu11-10.3.0.86 nvidia-cusolver-cu11-11.4.1.48 nvidia-cusparse-cu11-11.7.5.86 nvidia-nccl-cu11-2.14.3 nvidia-nvtx-cu11-11.7.91 progressbar-2.5 pure-eval-0.2.2 pydub-0.25.1 rotary-embedding-torch-0.2.5 stack-data-0.6.2 tokenizer-3.4.2 tokenizers-0.13.3 transformers-4.29.2\n"
          ]
        }
      ],
      "source": [
        "#@title Install the models onto the colab runtime\n",
        "#@markdown You need to run this cell in order to use this notebook\n",
        "!git clone https://github.com/Beyond2611/ttsClone;\n",
        "%cd ttsClone\n",
        "!pip install -r requirements.txt"
      ]
    },
    {
      "cell_type": "code",
      "source": [
        "#@title Adding your custom voice.\n",
        "#@markdown  Notes:\n",
        "#@markdown 1. Avoid clips with background music, noise or reverb. These clips were\n",
        "#@markdown removed from the training data set. Our model is unlikely to do well\n",
        "#@markdown with them.\n",
        "#@markdown 2. Avoid speeches. These generally have distortion caused by the amplifi-\n",
        "#@markdown cation system.\n",
        "#@markdown 3. Avoid clips from phone calls.\n",
        "#@markdown 4. Avoid clips that have excessive stuttering, stammering or words like\n",
        "#@markdown ”uh” or ”like” in them.\n",
        "#@markdown 5. Make sure the file is in `.wav` format, the sample rate is 22050hz, 16bit Mono.\n",
        "#@markdown ---\n",
        "#@markdown Path to audio file:\n",
        "audio_path = '' #@param {type:  \"string\"}\n",
        "#@markdown ---\n",
        "#@markdown Speaker's name:\n",
        "name = 'wow' #@param {type: \"string\"}\n",
        "!rm -rf \"tortoise/voices/{name}\"\n",
        "!mkdir \"tortoise/voices/{name}\"\n",
        "!python AudioSlicer.py --src \"$audio_path\" --dst \"tortoise/voices/{name}/\""
      ],
      "metadata": {
        "colab": {
          "base_uri": "https://localhost:8080/"
        },
        "id": "QcW_FNy87d0O",
        "outputId": "f3fda13d-61be-49af-e212-1cd8ae3af62c"
      },
      "execution_count": 5,
      "outputs": [
        {
          "output_type": "stream",
          "name": "stdout",
          "text": [
            "Traceback (most recent call last):\n",
            "  File \"/content/ttsClone/AudioSlicer.py\", line 29, in <module>\n",
            "    AudioSlicer(args.src, args.dst)\n",
            "  File \"/content/ttsClone/AudioSlicer.py\", line 9, in AudioSlicer\n",
            "    audio = AudioSegment.from_wav(src)\n",
            "  File \"/usr/local/lib/python3.10/dist-packages/pydub/audio_segment.py\", line 808, in from_wav\n",
            "    return cls.from_file(file, 'wav', parameters=parameters)\n",
            "  File \"/usr/local/lib/python3.10/dist-packages/pydub/audio_segment.py\", line 651, in from_file\n",
            "    file, close_file = _fd_or_path_or_tempfile(file, 'rb', tempfile=False)\n",
            "  File \"/usr/local/lib/python3.10/dist-packages/pydub/utils.py\", line 60, in _fd_or_path_or_tempfile\n",
            "    fd = open(fd, mode=mode)\n",
            "FileNotFoundError: [Errno 2] No such file or directory: ''\n"
          ]
        }
      ]
    },
    {
      "cell_type": "code",
      "execution_count": 6,
      "metadata": {
        "colab": {
          "base_uri": "https://localhost:8080/"
        },
        "id": "vDcKVFoTU6Y2",
        "outputId": "e9fd7bd1-a6fa-4bb9-dd5e-21e15f319a08"
      },
      "outputs": [
        {
          "output_type": "stream",
          "name": "stdout",
          "text": [
            "Generating autoregressive samples..\n",
            "100% 6/6 [00:13<00:00,  2.27s/it]\n",
            "Computing best candidates using CLVP  0% and CVVP 100%\n",
            "100% 6/6 [00:02<00:00,  2.76it/s]\n",
            "Transforming autoregressive outputs into audio..\n",
            "100% 80/80 [00:04<00:00, 18.34it/s]\n",
            "False\n"
          ]
        }
      ],
      "source": [
        "#@title Inferencing a short sentence:\n",
        "#@markdown Your sentence:\n",
        "text = 'You are here forever' #@param {type: \"string\"}\n",
        "#@markdown ---\n",
        "#@markdown Preset (`ultra_fast` / `fast` / `standard` / `high-quality` <- this usually not worth the computing time )\n",
        "preset = 'fast' #@param {type: \"string\"}\n",
        "#@markdown ---\n",
        "#@markdown Voice: (list of voice can be found in ttsClone/tortoise/voices, input the exact name on the folder)\n",
        "voice = 'fauna' #@param {type: \"string\"}\n",
        "#@markdown ---\n",
        "#@markdown #The result can be found in ttsClone/Results/Short\n",
        "!python main.py --type Short --text \"$text\" --voice \"$voice\" --preset \"$preset\""
      ]
    },
    {
      "cell_type": "code",
      "source": [
        "#@title Inferencing a text file:\n",
        "#@markdown Your textfile path:\n",
        "text_path = 'SampleParagraph.txt' #@param {type: \"string\"}\n",
        "#@markdown ---\n",
        "#@markdown Preset (`ultra_fast` / `fast` / `standard` / `high-quality` <- this usually not worth the computing time )\n",
        "preset = 'fast' #@param {type: \"string\"}\n",
        "#@markdown ---\n",
        "#@markdown Voice: (list of voice can be found in ttsClone/tortoise/voices, input the exact name on the folder)\n",
        "voice = 'fauna' #@param {type: \"string\"}\n",
        "#@markdown ---\n",
        "#@markdown #The result can be found in ttsClone/Results/Long\n",
        "!python main.py --type Long --text \"$text_path\" --voice \"$voice\" --preset \"$preset\""
      ],
      "metadata": {
        "colab": {
          "base_uri": "https://localhost:8080/"
        },
        "id": "XS3EJ_HrmFpN",
        "outputId": "2321219e-7860-4582-e480-b38416dccd49"
      },
      "execution_count": null,
      "outputs": [
        {
          "output_type": "stream",
          "name": "stdout",
          "text": [
            "Generating autoregressive samples..\n",
            " 50% 3/6 [08:07<07:54, 158.28s/it]"
          ]
        }
      ]
    }
  ],
  "metadata": {
    "colab": {
      "provenance": [],
      "gpuType": "V100",
      "machine_shape": "hm",
      "gpuClass": "premium",
      "authorship_tag": "ABX9TyOFapC6vJDNgTkNLt/QCtEN",
      "include_colab_link": true
    },
    "gpuClass": "premium",
    "kernelspec": {
      "display_name": "Python 3",
      "name": "python3"
    },
    "language_info": {
      "name": "python"
    },
    "accelerator": "GPU"
  },
  "nbformat": 4,
  "nbformat_minor": 0
}